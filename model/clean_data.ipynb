{
 "cells": [
  {
   "cell_type": "markdown",
   "metadata": {},
   "source": [
    "## Clean dataset and combine columns"
   ]
  },
  {
   "cell_type": "code",
   "execution_count": 15,
   "metadata": {},
   "outputs": [],
   "source": [
    "import pandas as pd\n",
    "import re\n",
    "\n",
    "df = pd.read_csv('../dataset/dataset.csv')"
   ]
  },
  {
   "cell_type": "code",
   "execution_count": 16,
   "metadata": {},
   "outputs": [],
   "source": [
    "# Clean text\n",
    "def clean_text(text):\n",
    "    # Convert to string if not already a string\n",
    "    if not isinstance(text, str):\n",
    "        text = str(text)\n",
    "\n",
    "    text = re.sub(r'<.*?>', '', text)  # Remove HTML tags\n",
    "    text = re.sub(r'[^a-zA-Z0-9\\s]', '', text)  # Remove special characters\n",
    "    return text.lower().strip()\n",
    "    \n",
    "df['cleaned_overview'] = df['overview'].apply(clean_text)\n",
    "df['cleaned_plot'] = df['plot'].apply(clean_text)\n",
    "    \n",
    "# Combine overview and plot for richer context\n",
    "df['combined_text'] = df['cleaned_overview'] + \" \" + df['cleaned_plot']"
   ]
  },
  {
   "cell_type": "code",
   "execution_count": 17,
   "metadata": {},
   "outputs": [
    {
     "name": "stdout",
     "output_type": "stream",
     "text": [
      "<class 'pandas.core.frame.DataFrame'>\n",
      "RangeIndex: 14474 entries, 0 to 14473\n",
      "Data columns (total 15 columns):\n",
      " #   Column                Non-Null Count  Dtype  \n",
      "---  ------                --------------  -----  \n",
      " 0   wikipedia movie id    14474 non-null  int64  \n",
      " 1   imdb_id               14474 non-null  object \n",
      " 2   movie name            14474 non-null  object \n",
      " 3   original_title        14474 non-null  object \n",
      " 4   release_date          14474 non-null  object \n",
      " 5   year                  14474 non-null  float64\n",
      " 6   genres                14474 non-null  object \n",
      " 7   original_language     14473 non-null  object \n",
      " 8   production_countries  14474 non-null  object \n",
      " 9   poster_path           14460 non-null  object \n",
      " 10  overview              14450 non-null  object \n",
      " 11  plot                  14474 non-null  object \n",
      " 12  cleaned_overview      14474 non-null  object \n",
      " 13  cleaned_plot          14474 non-null  object \n",
      " 14  combined_text         14474 non-null  object \n",
      "dtypes: float64(1), int64(1), object(13)\n",
      "memory usage: 1.7+ MB\n"
     ]
    }
   ],
   "source": [
    "df.info()"
   ]
  },
  {
   "cell_type": "code",
   "execution_count": 18,
   "metadata": {},
   "outputs": [
    {
     "data": {
      "text/plain": [
       "Index(['wikipedia movie id', 'imdb_id', 'movie name', 'original_title',\n",
       "       'release_date', 'year', 'genres', 'original_language',\n",
       "       'production_countries', 'poster_path', 'combined_text'],\n",
       "      dtype='object')"
      ]
     },
     "execution_count": 18,
     "metadata": {},
     "output_type": "execute_result"
    }
   ],
   "source": [
    "df = df.drop(['plot', 'overview', 'cleaned_overview', 'cleaned_plot'], axis=1)\n",
    "\n",
    "df.columns"
   ]
  },
  {
   "cell_type": "code",
   "execution_count": 19,
   "metadata": {},
   "outputs": [],
   "source": [
    "df.to_csv('data.csv')"
   ]
  }
 ],
 "metadata": {
  "kernelspec": {
   "display_name": "Python 3",
   "language": "python",
   "name": "python3"
  },
  "language_info": {
   "codemirror_mode": {
    "name": "ipython",
    "version": 3
   },
   "file_extension": ".py",
   "mimetype": "text/x-python",
   "name": "python",
   "nbconvert_exporter": "python",
   "pygments_lexer": "ipython3",
   "version": "3.12.4"
  }
 },
 "nbformat": 4,
 "nbformat_minor": 2
}
