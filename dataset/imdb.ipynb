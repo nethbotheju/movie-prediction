{
 "cells": [
  {
   "cell_type": "code",
   "execution_count": 64,
   "metadata": {},
   "outputs": [
    {
     "name": "stdout",
     "output_type": "stream",
     "text": [
      "Length of imdb.csv:  45466\n"
     ]
    }
   ],
   "source": [
    "import pandas as pd\n",
    "\n",
    "# Load the CSV files\n",
    "df2 = pd.read_csv(\"./original_datasets/imdb.csv\", low_memory=False)\n",
    "\n",
    "# Length of the dataset\n",
    "print(\"Length of imdb.csv: \", len(df2))\n"
   ]
  },
  {
   "cell_type": "code",
   "execution_count": 65,
   "metadata": {},
   "outputs": [
    {
     "name": "stdout",
     "output_type": "stream",
     "text": [
      "Number of null records in imdb_id:  17\n",
      "Length of imdb.csv after remove the null values in imdb_id:  45449\n"
     ]
    }
   ],
   "source": [
    "# View null in imdb_id\n",
    "print(\"Number of null records in imdb_id: \", df2['imdb_id'].isnull().sum())\n",
    "\n",
    "# Remove Null values\n",
    "df2 = df2.dropna(subset=['imdb_id'])\n",
    "\n",
    "print(\"Length of imdb.csv after remove the null values in imdb_id: \", len(df2))"
   ]
  },
  {
   "cell_type": "code",
   "execution_count": 66,
   "metadata": {},
   "outputs": [
    {
     "name": "stdout",
     "output_type": "stream",
     "text": [
      "Number of duplicate records in imdb_id:  32\n",
      "Length of imdb.csv after remove the duplicate values in imdb_id:  45417\n"
     ]
    }
   ],
   "source": [
    "# View duplicates in imdb_id\n",
    "print(\"Number of duplicate records in imdb_id: \", len(df2[df2['imdb_id'].duplicated()]))\n",
    "\n",
    "# Remove Duplicates\n",
    "df2 = df2.drop_duplicates(subset='imdb_id', keep='first')\n",
    "\n",
    "print(\"Length of imdb.csv after remove the duplicate values in imdb_id: \", len(df2))"
   ]
  },
  {
   "cell_type": "code",
   "execution_count": 67,
   "metadata": {},
   "outputs": [
    {
     "name": "stdout",
     "output_type": "stream",
     "text": [
      "Index(['adult', 'belongs_to_collection', 'budget', 'genres', 'homepage', 'id',\n",
      "       'imdb_id', 'original_language', 'original_title', 'overview',\n",
      "       'popularity', 'poster_path', 'production_companies',\n",
      "       'production_countries', 'release_date', 'revenue', 'runtime',\n",
      "       'spoken_languages', 'status', 'tagline', 'title', 'video',\n",
      "       'vote_average', 'vote_count'],\n",
      "      dtype='object')\n"
     ]
    }
   ],
   "source": [
    "print(df2.columns)"
   ]
  },
  {
   "cell_type": "code",
   "execution_count": 68,
   "metadata": {},
   "outputs": [],
   "source": [
    "# Extract the year from the 'release_date' column\n",
    "def extract_year(value):\n",
    "    if pd.isna(value):  # Handle missing values\n",
    "        return None\n",
    "    value = str(value)  # Convert to string\n",
    "    if value.isdigit():  # If it's a year (e.g., \"2024\")\n",
    "        return int(value)\n",
    "    try:\n",
    "        return pd.to_datetime(value).year  # Parse dates like \"8/19/2024\"\n",
    "    except Exception:\n",
    "        return None  # If parsing fails, return None\n",
    "\n",
    "# Apply the function to the 'movie release date' column\n",
    "df2['year'] = df2['release_date'].apply(extract_year)"
   ]
  },
  {
   "cell_type": "code",
   "execution_count": 69,
   "metadata": {},
   "outputs": [
    {
     "name": "stdout",
     "output_type": "stream",
     "text": [
      "No of null values in year column:  84\n",
      "No of null values in original_title column:  0\n",
      "Length of imdb.csv after remove the null values in year and original_title: 45333\n"
     ]
    }
   ],
   "source": [
    "# Null id's\n",
    "print(\"No of null values in year column: \", df2['year'].isnull().sum())\n",
    "print(\"No of null values in original_title column: \", df2['original_title'].isnull().sum())\n",
    "\n",
    "# Remove null vales\n",
    "df2 = df2.dropna(subset=['year'])\n",
    "df2 = df2.dropna(subset=['original_title'])\n",
    "\n",
    "# Length of the dataset\n",
    "print(\"Length of imdb.csv after remove the null values in year and original_title:\", len(df2))"
   ]
  },
  {
   "cell_type": "code",
   "execution_count": 70,
   "metadata": {},
   "outputs": [
    {
     "name": "stdout",
     "output_type": "stream",
     "text": [
      "Duplicate records with the same year and original_title:  42\n"
     ]
    }
   ],
   "source": [
    "print(\"Duplicate records with the same year and original_title: \" ,len(df2[df2.duplicated(subset=['original_title', 'year'], keep=False)]))"
   ]
  },
  {
   "cell_type": "code",
   "execution_count": 71,
   "metadata": {},
   "outputs": [
    {
     "name": "stdout",
     "output_type": "stream",
     "text": [
      "Length ofimdb.csv after remove all duplicates records where year and original_title same:  45291\n"
     ]
    }
   ],
   "source": [
    "# Remove rows where duplicates exist based on both columns\n",
    "df2 = df2[~df2.duplicated(subset=['original_title', 'year'], keep=False)]\n",
    "\n",
    "print(\"Length ofimdb.csv after remove all duplicates records where year and original_title same: \",len(df2))"
   ]
  },
  {
   "cell_type": "code",
   "execution_count": 72,
   "metadata": {},
   "outputs": [
    {
     "data": {
      "text/plain": [
       "Index(['genres', 'imdb_id', 'original_language', 'original_title', 'overview',\n",
       "       'poster_path', 'production_countries', 'release_date', 'year'],\n",
       "      dtype='object')"
      ]
     },
     "execution_count": 72,
     "metadata": {},
     "output_type": "execute_result"
    }
   ],
   "source": [
    "df2 = df2.drop(columns=['adult',\n",
    "       'belongs_to_collection', 'budget', 'homepage', 'id','popularity', 'production_companies', 'revenue', 'runtime', 'spoken_languages', 'status', 'tagline', 'title', 'video', 'vote_average', 'vote_count'])\n",
    "\n",
    "df2.columns"
   ]
  },
  {
   "cell_type": "code",
   "execution_count": 74,
   "metadata": {},
   "outputs": [],
   "source": [
    "df2.to_csv(\"./created_datasets/imdb_clean.csv\", index=False)"
   ]
  },
  {
   "cell_type": "code",
   "execution_count": null,
   "metadata": {},
   "outputs": [],
   "source": []
  }
 ],
 "metadata": {
  "kernelspec": {
   "display_name": "Python 3",
   "language": "python",
   "name": "python3"
  },
  "language_info": {
   "codemirror_mode": {
    "name": "ipython",
    "version": 3
   },
   "file_extension": ".py",
   "mimetype": "text/x-python",
   "name": "python",
   "nbconvert_exporter": "python",
   "pygments_lexer": "ipython3",
   "version": "3.12.4"
  }
 },
 "nbformat": 4,
 "nbformat_minor": 2
}
