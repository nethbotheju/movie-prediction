{
 "cells": [
  {
   "cell_type": "code",
   "execution_count": 30,
   "metadata": {},
   "outputs": [
    {
     "name": "stdout",
     "output_type": "stream",
     "text": [
      "Length of wikipedia.csv:  81741\n",
      "Number of duplicate records in wikipedia movie id:  0\n",
      "Null values of wikipedia.csv in wikipedia id:  0\n"
     ]
    }
   ],
   "source": [
    "import pandas as pd\n",
    "\n",
    "# Load the CSV files\n",
    "df1 = pd.read_csv(\"./original_datasets/wikipedia.csv\", delimiter=';')\n",
    "\n",
    "# Length of the dataset\n",
    "print(\"Length of wikipedia.csv: \", len(df1))\n",
    "\n",
    "# Remove duplicates\n",
    "print(\"Number of duplicate records in wikipedia movie id: \", len(df1[df1['wikipedia movie id'].duplicated()]))\n",
    "\n",
    "# Null id's\n",
    "print(\"Null values of wikipedia.csv in wikipedia id: \", df1['wikipedia movie id'].isnull().sum())"
   ]
  },
  {
   "cell_type": "code",
   "execution_count": 31,
   "metadata": {},
   "outputs": [
    {
     "name": "stdout",
     "output_type": "stream",
     "text": [
      "Index(['wikipedia movie id', 'freebase movie id', 'movie name',\n",
      "       'movie release date', 'movie box office revenue', 'movie runtime',\n",
      "       'movie language', 'movie countries', 'movie genres'],\n",
      "      dtype='object')\n"
     ]
    }
   ],
   "source": [
    "print(df1.columns)"
   ]
  },
  {
   "cell_type": "code",
   "execution_count": 32,
   "metadata": {},
   "outputs": [
    {
     "name": "stdout",
     "output_type": "stream",
     "text": [
      "No of null values in movie release date column:  6902\n",
      "No of null values in movie name column:  0\n",
      "Length of wikipedia.csv after remove the null values in movie release date and movie name columns:  74839\n"
     ]
    }
   ],
   "source": [
    "# Null id's\n",
    "print(\"No of null values in movie release date column: \", df1['movie release date'].isnull().sum())\n",
    "print(\"No of null values in movie name column: \", df1['movie name'].isnull().sum())\n",
    "\n",
    "# Remove null vales\n",
    "df1 = df1.dropna(subset=['movie release date'])\n",
    "df1 = df1.dropna(subset=['movie name'])\n",
    "\n",
    "# Length of the dataset\n",
    "print(\"Length of wikipedia.csv after remove the null values in movie release date and movie name columns: \", len(df1))"
   ]
  },
  {
   "cell_type": "code",
   "execution_count": 33,
   "metadata": {},
   "outputs": [
    {
     "name": "stdout",
     "output_type": "stream",
     "text": [
      "Duplicate records with the same movie name and movie release date:  72\n"
     ]
    }
   ],
   "source": [
    "print(\"Duplicate records with the same movie name and movie release date: \" ,len(df1[df1.duplicated(subset=['movie name', 'movie release date'], keep=False)]))"
   ]
  },
  {
   "cell_type": "code",
   "execution_count": 34,
   "metadata": {},
   "outputs": [
    {
     "name": "stdout",
     "output_type": "stream",
     "text": [
      "Length of wikipedia.csv after remove all duplicates records where movie name and movie release date same:  74767\n"
     ]
    }
   ],
   "source": [
    "# Remove rows where duplicates exist based on both columns\n",
    "df1 = df1[~df1.duplicated(subset=['movie name', 'movie release date'], keep=False)]\n",
    "\n",
    "print( \"Length of wikipedia.csv after remove all duplicates records where movie name and movie release date same: \",len(df1))"
   ]
  },
  {
   "cell_type": "code",
   "execution_count": 35,
   "metadata": {},
   "outputs": [],
   "source": [
    "# Extract the year from the 'movie release date' column\n",
    "def extract_year(value):\n",
    "    if pd.isna(value):  # Handle missing values\n",
    "        return None\n",
    "    value = str(value)  # Convert to string\n",
    "    if value.isdigit():  # If it's a year (e.g., \"2024\")\n",
    "        return int(value)\n",
    "    try:\n",
    "        return pd.to_datetime(value).year  # Parse dates like \"8/19/2024\"\n",
    "    except Exception:\n",
    "        return None  # If parsing fails, return None\n",
    "\n",
    "# Apply the function to the 'movie release date' column\n",
    "df1['year'] = df1['movie release date'].apply(extract_year)"
   ]
  },
  {
   "cell_type": "code",
   "execution_count": 36,
   "metadata": {},
   "outputs": [
    {
     "name": "stdout",
     "output_type": "stream",
     "text": [
      "Duplicate records with the same movie name and year:  167\n"
     ]
    }
   ],
   "source": [
    "print(\"Duplicate records with the same movie name and year: \" ,len(df1[df1.duplicated(subset=['movie name', 'year'], keep=False)]))"
   ]
  },
  {
   "cell_type": "code",
   "execution_count": 37,
   "metadata": {},
   "outputs": [
    {
     "name": "stdout",
     "output_type": "stream",
     "text": [
      "Length of wikipedia.csv after remove all duplicates records where movie name and year same:  74600\n"
     ]
    }
   ],
   "source": [
    "# Remove rows where duplicates exist based on both columns\n",
    "df1 = df1[~df1.duplicated(subset=['movie name', 'year'], keep=False)]\n",
    "\n",
    "print(\"Length of wikipedia.csv after remove all duplicates records where movie name and year same: \",len(df1))"
   ]
  },
  {
   "cell_type": "code",
   "execution_count": 38,
   "metadata": {},
   "outputs": [
    {
     "data": {
      "text/plain": [
       "Index(['wikipedia movie id', 'movie name', 'year'], dtype='object')"
      ]
     },
     "execution_count": 38,
     "metadata": {},
     "output_type": "execute_result"
    }
   ],
   "source": [
    "df1 = df1.drop(columns=['freebase movie id', 'movie release date', 'movie box office revenue', 'movie runtime', 'movie language', 'movie countries', 'movie genres'])\n",
    "\n",
    "df1.columns"
   ]
  },
  {
   "cell_type": "code",
   "execution_count": 39,
   "metadata": {},
   "outputs": [],
   "source": [
    "df1.to_csv(\"./created_datasets/wikipedia_clean.csv\", index=False)"
   ]
  }
 ],
 "metadata": {
  "kernelspec": {
   "display_name": "Python 3",
   "language": "python",
   "name": "python3"
  },
  "language_info": {
   "codemirror_mode": {
    "name": "ipython",
    "version": 3
   },
   "file_extension": ".py",
   "mimetype": "text/x-python",
   "name": "python",
   "nbconvert_exporter": "python",
   "pygments_lexer": "ipython3",
   "version": "3.12.4"
  }
 },
 "nbformat": 4,
 "nbformat_minor": 2
}
