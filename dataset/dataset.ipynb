{
 "cells": [
  {
   "cell_type": "code",
   "execution_count": 1,
   "metadata": {},
   "outputs": [],
   "source": [
    "import pandas as pd\n",
    "\n",
    "# Load the CSV files\n",
    "df1 = pd.read_csv(\"./created_datasets/wikipedia_clean.csv\")\n",
    "df2 = pd.read_csv(\"./created_datasets/imdb_clean.csv\", low_memory=False)\n",
    "\n"
   ]
  },
  {
   "cell_type": "code",
   "execution_count": 2,
   "metadata": {},
   "outputs": [
    {
     "name": "stdout",
     "output_type": "stream",
     "text": [
      "18284\n"
     ]
    }
   ],
   "source": [
    "merged_df = pd.merge(df1, df2, left_on=['movie name', 'year'],right_on=['original_title', 'year'],how='inner')\n",
    "\n",
    "# Number of rows in merged file\n",
    "print(len(merged_df))"
   ]
  },
  {
   "cell_type": "code",
   "execution_count": 3,
   "metadata": {},
   "outputs": [
    {
     "name": "stdout",
     "output_type": "stream",
     "text": [
      "Index(['wikipedia movie id', 'movie name', 'year', 'genres', 'imdb_id',\n",
      "       'original_language', 'original_title', 'overview', 'poster_path',\n",
      "       'production_countries', 'release_date'],\n",
      "      dtype='object')\n"
     ]
    }
   ],
   "source": [
    "print(merged_df.columns)"
   ]
  },
  {
   "cell_type": "code",
   "execution_count": 4,
   "metadata": {},
   "outputs": [],
   "source": [
    "# Rearrange the columns\n",
    "new_order = ['wikipedia movie id', 'imdb_id', 'movie name', 'original_title', 'release_date', 'year', 'genres', 'original_language', 'production_countries', 'poster_path', 'overview']\n",
    "merged_df = merged_df[new_order]"
   ]
  },
  {
   "cell_type": "code",
   "execution_count": 5,
   "metadata": {},
   "outputs": [
    {
     "name": "stdout",
     "output_type": "stream",
     "text": [
      "No of null values in Movie ID column:  0\n",
      "No of null values in Plot Summary column:  0\n"
     ]
    }
   ],
   "source": [
    "# Load the CSV files\n",
    "df3 = pd.read_csv(\"./original_datasets/plot.csv\")\n",
    "\n",
    "# Null id's\n",
    "print(\"No of null values in Movie ID column: \", df3['Movie ID'].isnull().sum())\n",
    "print(\"No of null values in Plot Summary column: \", df3['Plot Summary'].isnull().sum())"
   ]
  },
  {
   "cell_type": "code",
   "execution_count": 6,
   "metadata": {},
   "outputs": [
    {
     "name": "stdout",
     "output_type": "stream",
     "text": [
      "14474\n"
     ]
    }
   ],
   "source": [
    "# Merge the final dataset\n",
    "final_df = pd.merge(merged_df, df3, left_on=['wikipedia movie id'],right_on=['Movie ID'],how='inner')\n",
    "\n",
    "# number of records in the final dataset\n",
    "print(len(final_df))"
   ]
  },
  {
   "cell_type": "code",
   "execution_count": 7,
   "metadata": {},
   "outputs": [],
   "source": [
    "# Remove unwanted columns\n",
    "final_df = final_df.drop(columns=['Movie ID'])\n",
    "\n",
    "# Save the final data to a new file\n",
    "final_df.to_csv(\"dataset.csv\", index=False)"
   ]
  }
 ],
 "metadata": {
  "kernelspec": {
   "display_name": "Python 3",
   "language": "python",
   "name": "python3"
  },
  "language_info": {
   "codemirror_mode": {
    "name": "ipython",
    "version": 3
   },
   "file_extension": ".py",
   "mimetype": "text/x-python",
   "name": "python",
   "nbconvert_exporter": "python",
   "pygments_lexer": "ipython3",
   "version": "3.12.4"
  }
 },
 "nbformat": 4,
 "nbformat_minor": 2
}
